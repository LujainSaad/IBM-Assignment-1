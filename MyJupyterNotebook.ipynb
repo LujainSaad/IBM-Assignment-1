{
 "cells": [
  {
   "cell_type": "markdown",
   "id": "d5224997-e930-40a7-a0ee-7a6df3ea2841",
   "metadata": {},
   "source": [
    "# My Jupyter Notebook on IBM Watson Studio"
   ]
  },
  {
   "cell_type": "markdown",
   "id": "005bb732-61b8-405d-8f7f-500a18a39195",
   "metadata": {},
   "source": [
    "**Lujain Saad**\n",
    "Data Scientist"
   ]
  },
  {
   "cell_type": "markdown",
   "id": "96f52dee-9ca9-42a4-b63f-ac7203727a00",
   "metadata": {},
   "source": [
    "*I am interested in data science because it is an interesting subject*"
   ]
  },
  {
   "cell_type": "markdown",
   "id": "39674810-1b0d-48c4-806d-a4ac46f15705",
   "metadata": {},
   "source": [
    "### Sum in Python"
   ]
  },
  {
   "cell_type": "code",
   "execution_count": 2,
   "id": "2ee7e5d5-1b4c-462b-8445-2c9df36ffa1e",
   "metadata": {},
   "outputs": [
    {
     "data": {
      "text/plain": [
       "2"
      ]
     },
     "execution_count": 3,
     "metadata": {},
     "output_type": "execute_result"
    }
   ],
   "source": [
    "1 + 1 "
   ]
  },
  {
   "cell_type": "markdown",
   "id": "037deeb5-c166-4c48-b3d4-7e5298ced5af",
   "metadata": {},
   "source": [
    "### Which Programming Language Is Best for Data Science?\n",
    "1. Python\n",
    "2. R\n",
    "3. SQL\n",
    "\n",
    "![alt text](https://www.kdnuggets.com/images/languages-data-mining-r-python-sql.jpg)"
   ]
  },
  {
   "cell_type": "code",
   "execution_count": null,
   "id": "6179ab69-6634-4b2b-a65c-94d7bdb51973",
   "metadata": {},
   "outputs": [],
   "source": []
  }
 ],
 "metadata": {
  "kernelspec": {
   "display_name": "Python 3 (ipykernel)",
   "language": "python",
   "name": "python3"
  },
  "language_info": {
   "codemirror_mode": {
    "name": "ipython",
    "version": 3
   },
   "file_extension": ".py",
   "mimetype": "text/x-python",
   "name": "python",
   "nbconvert_exporter": "python",
   "pygments_lexer": "ipython3",
   "version": "3.9.7"
  }
 },
 "nbformat": 4,
 "nbformat_minor": 5
}
